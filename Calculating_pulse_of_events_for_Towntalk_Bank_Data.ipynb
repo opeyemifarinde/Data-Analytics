{
 "cells": [
  {
   "cell_type": "code",
   "execution_count": 1,
   "metadata": {},
   "outputs": [
    {
     "data": {
      "text/html": [
       "<div>\n",
       "<style scoped>\n",
       "    .dataframe tbody tr th:only-of-type {\n",
       "        vertical-align: middle;\n",
       "    }\n",
       "\n",
       "    .dataframe tbody tr th {\n",
       "        vertical-align: top;\n",
       "    }\n",
       "\n",
       "    .dataframe thead th {\n",
       "        text-align: right;\n",
       "    }\n",
       "</style>\n",
       "<table border=\"1\" class=\"dataframe\">\n",
       "  <thead>\n",
       "    <tr style=\"text-align: right;\">\n",
       "      <th></th>\n",
       "      <th>RowNumber</th>\n",
       "      <th>CustomerId</th>\n",
       "      <th>Surname</th>\n",
       "      <th>Geography</th>\n",
       "      <th>Gender</th>\n",
       "      <th>Age</th>\n",
       "      <th>Profession</th>\n",
       "      <th>Tenure</th>\n",
       "      <th>Balance (last week)</th>\n",
       "      <th>Balance (today)</th>\n",
       "      <th>...</th>\n",
       "      <th>HasCrCard</th>\n",
       "      <th>Loan amount this month</th>\n",
       "      <th>Loan age</th>\n",
       "      <th>Loan type</th>\n",
       "      <th>Due loan payment (this month)</th>\n",
       "      <th>No of visits to bank this month</th>\n",
       "      <th>Enrolled to Mobile banking today</th>\n",
       "      <th>Deposits this month</th>\n",
       "      <th>EstimatedSalary</th>\n",
       "      <th>Salary account</th>\n",
       "    </tr>\n",
       "  </thead>\n",
       "  <tbody>\n",
       "    <tr>\n",
       "      <th>0</th>\n",
       "      <td>2093</td>\n",
       "      <td>15757408</td>\n",
       "      <td>Lo</td>\n",
       "      <td>South West</td>\n",
       "      <td>Male</td>\n",
       "      <td>38</td>\n",
       "      <td>Skilled</td>\n",
       "      <td>3</td>\n",
       "      <td>275376.202392</td>\n",
       "      <td>250898.09</td>\n",
       "      <td>...</td>\n",
       "      <td>0</td>\n",
       "      <td>14335</td>\n",
       "      <td>1</td>\n",
       "      <td>Business</td>\n",
       "      <td>1148.751531</td>\n",
       "      <td>0</td>\n",
       "      <td>No</td>\n",
       "      <td>0.000000</td>\n",
       "      <td>81054.00</td>\n",
       "      <td>0</td>\n",
       "    </tr>\n",
       "    <tr>\n",
       "      <th>1</th>\n",
       "      <td>3281</td>\n",
       "      <td>15715622</td>\n",
       "      <td>To Rot</td>\n",
       "      <td>North Central</td>\n",
       "      <td>Female</td>\n",
       "      <td>57</td>\n",
       "      <td>Non-Skilled</td>\n",
       "      <td>3</td>\n",
       "      <td>168705.016176</td>\n",
       "      <td>238387.56</td>\n",
       "      <td>...</td>\n",
       "      <td>0</td>\n",
       "      <td>15758</td>\n",
       "      <td>2</td>\n",
       "      <td>Auto</td>\n",
       "      <td>0.000000</td>\n",
       "      <td>0</td>\n",
       "      <td>Yes</td>\n",
       "      <td>0.000000</td>\n",
       "      <td>147964.99</td>\n",
       "      <td>1</td>\n",
       "    </tr>\n",
       "    <tr>\n",
       "      <th>2</th>\n",
       "      <td>8734</td>\n",
       "      <td>15714241</td>\n",
       "      <td>Haddon</td>\n",
       "      <td>South West</td>\n",
       "      <td>Male</td>\n",
       "      <td>42</td>\n",
       "      <td>Skilled</td>\n",
       "      <td>9</td>\n",
       "      <td>115230.012462</td>\n",
       "      <td>222267.63</td>\n",
       "      <td>...</td>\n",
       "      <td>0</td>\n",
       "      <td>0</td>\n",
       "      <td>0</td>\n",
       "      <td>No Loan</td>\n",
       "      <td>0.000000</td>\n",
       "      <td>2</td>\n",
       "      <td>Yes</td>\n",
       "      <td>18135.954277</td>\n",
       "      <td>101108.85</td>\n",
       "      <td>1</td>\n",
       "    </tr>\n",
       "    <tr>\n",
       "      <th>3</th>\n",
       "      <td>3589</td>\n",
       "      <td>15571958</td>\n",
       "      <td>McIntosh</td>\n",
       "      <td>South West</td>\n",
       "      <td>Male</td>\n",
       "      <td>40</td>\n",
       "      <td>Non-Skilled</td>\n",
       "      <td>3</td>\n",
       "      <td>184308.943539</td>\n",
       "      <td>221532.80</td>\n",
       "      <td>...</td>\n",
       "      <td>1</td>\n",
       "      <td>0</td>\n",
       "      <td>0</td>\n",
       "      <td>No Loan</td>\n",
       "      <td>0.000000</td>\n",
       "      <td>2</td>\n",
       "      <td>Yes</td>\n",
       "      <td>1015.609661</td>\n",
       "      <td>171867.08</td>\n",
       "      <td>1</td>\n",
       "    </tr>\n",
       "    <tr>\n",
       "      <th>4</th>\n",
       "      <td>6718</td>\n",
       "      <td>15586674</td>\n",
       "      <td>Shaw</td>\n",
       "      <td>South West</td>\n",
       "      <td>Female</td>\n",
       "      <td>58</td>\n",
       "      <td>Skilled</td>\n",
       "      <td>5</td>\n",
       "      <td>141788.455066</td>\n",
       "      <td>216109.88</td>\n",
       "      <td>...</td>\n",
       "      <td>0</td>\n",
       "      <td>10145</td>\n",
       "      <td>2</td>\n",
       "      <td>Auto</td>\n",
       "      <td>0.000000</td>\n",
       "      <td>2</td>\n",
       "      <td>Yes</td>\n",
       "      <td>16181.368607</td>\n",
       "      <td>74176.71</td>\n",
       "      <td>0</td>\n",
       "    </tr>\n",
       "  </tbody>\n",
       "</table>\n",
       "<p>5 rows × 21 columns</p>\n",
       "</div>"
      ],
      "text/plain": [
       "   RowNumber  CustomerId   Surname      Geography  Gender  Age   Profession  \\\n",
       "0       2093    15757408        Lo     South West    Male   38      Skilled   \n",
       "1       3281    15715622    To Rot  North Central  Female   57  Non-Skilled   \n",
       "2       8734    15714241    Haddon     South West    Male   42      Skilled   \n",
       "3       3589    15571958  McIntosh     South West    Male   40  Non-Skilled   \n",
       "4       6718    15586674      Shaw     South West  Female   58      Skilled   \n",
       "\n",
       "   Tenure  Balance (last week)  Balance (today)       ...        HasCrCard  \\\n",
       "0       3        275376.202392        250898.09       ...                0   \n",
       "1       3        168705.016176        238387.56       ...                0   \n",
       "2       9        115230.012462        222267.63       ...                0   \n",
       "3       3        184308.943539        221532.80       ...                1   \n",
       "4       5        141788.455066        216109.88       ...                0   \n",
       "\n",
       "   Loan amount this month  Loan age  Loan type Due loan payment (this month)  \\\n",
       "0                   14335         1   Business                   1148.751531   \n",
       "1                   15758         2       Auto                      0.000000   \n",
       "2                       0         0    No Loan                      0.000000   \n",
       "3                       0         0    No Loan                      0.000000   \n",
       "4                   10145         2       Auto                      0.000000   \n",
       "\n",
       "   No of visits to bank this month  Enrolled to Mobile banking today  \\\n",
       "0                                0                                No   \n",
       "1                                0                               Yes   \n",
       "2                                2                               Yes   \n",
       "3                                2                               Yes   \n",
       "4                                2                               Yes   \n",
       "\n",
       "  Deposits this month  EstimatedSalary  Salary account  \n",
       "0            0.000000         81054.00               0  \n",
       "1            0.000000        147964.99               1  \n",
       "2        18135.954277        101108.85               1  \n",
       "3         1015.609661        171867.08               1  \n",
       "4        16181.368607         74176.71               0  \n",
       "\n",
       "[5 rows x 21 columns]"
      ]
     },
     "execution_count": 1,
     "metadata": {},
     "output_type": "execute_result"
    }
   ],
   "source": [
    "import numpy as np\n",
    "import pandas as pd\n",
    "import matplotlib.pyplot as plt\n",
    "\n",
    "rawData = pd.read_excel(\"C:\\\\Users\\Brightness\\Downloads\\Expanding Issue Tree_test.xlsx\", \"Raw Data for Pulse Calculations\")\n",
    "\n",
    "#this prints the header information of the excel sheet containing the raw data\n",
    "rawData.head(5)"
   ]
  },
  {
   "cell_type": "code",
   "execution_count": 2,
   "metadata": {},
   "outputs": [
    {
     "data": {
      "text/plain": [
       "RowNumber                           10000\n",
       "CustomerId                          10000\n",
       "Surname                             10000\n",
       "Geography                           10000\n",
       "Gender                              10000\n",
       "Age                                 10000\n",
       "Profession                          10000\n",
       "Tenure                              10000\n",
       "Balance (last week)                 10000\n",
       "Balance (today)                     10000\n",
       "Number of accounts                  10000\n",
       "HasCrCard                           10000\n",
       "Loan amount this month              10000\n",
       "Loan age                            10000\n",
       "Loan type                           10000\n",
       "Due loan payment (this month)       10000\n",
       "No of visits to bank this month     10000\n",
       "Enrolled to Mobile banking today    10000\n",
       "Deposits this month                 10000\n",
       "EstimatedSalary                     10000\n",
       "Salary account                      10000\n",
       "dtype: int64"
      ]
     },
     "execution_count": 2,
     "metadata": {},
     "output_type": "execute_result"
    }
   ],
   "source": [
    "'''\n",
    "this counts the items on each column and helps to show if any row has missing or NaN data. \n",
    "The below shows that no column has any missing data\n",
    "'''\n",
    "rawData.count()"
   ]
  },
  {
   "cell_type": "markdown",
   "metadata": {},
   "source": [
    "#### Features engineering "
   ]
  },
  {
   "cell_type": "markdown",
   "metadata": {},
   "source": [
    "this involves selecting features that are important for this analysis.\n",
    "\n",
    "Based on Towntalk's methodology, the following are the features required for calculating the pulse of the event\n",
    "\n",
    "1. Geography\n",
    "2. Gender\n",
    "3. Age\n",
    "4. Profession\n",
    "5. Balance (last week)\n",
    "6. Balance (today)"
   ]
  },
  {
   "cell_type": "code",
   "execution_count": 3,
   "metadata": {},
   "outputs": [],
   "source": [
    "# columns not required are discarded\n",
    "\n",
    "rawData.drop(['RowNumber', 'CustomerId', 'Surname','Tenure', \n",
    "              'Number of accounts', 'HasCrCard', 'Loan amount this month', \n",
    "              'Loan age','Loan type', 'Due loan payment (this month)',\n",
    "              'No of visits to bank this month', 'Enrolled to Mobile banking today',\n",
    "              'Deposits this month', 'EstimatedSalary', 'Salary account'], axis = 1, inplace = True)"
   ]
  },
  {
   "cell_type": "code",
   "execution_count": 4,
   "metadata": {},
   "outputs": [
    {
     "data": {
      "text/html": [
       "<div>\n",
       "<style scoped>\n",
       "    .dataframe tbody tr th:only-of-type {\n",
       "        vertical-align: middle;\n",
       "    }\n",
       "\n",
       "    .dataframe tbody tr th {\n",
       "        vertical-align: top;\n",
       "    }\n",
       "\n",
       "    .dataframe thead th {\n",
       "        text-align: right;\n",
       "    }\n",
       "</style>\n",
       "<table border=\"1\" class=\"dataframe\">\n",
       "  <thead>\n",
       "    <tr style=\"text-align: right;\">\n",
       "      <th></th>\n",
       "      <th>Geography</th>\n",
       "      <th>Gender</th>\n",
       "      <th>Age</th>\n",
       "      <th>Profession</th>\n",
       "      <th>Balance (last week)</th>\n",
       "      <th>Balance (today)</th>\n",
       "    </tr>\n",
       "  </thead>\n",
       "  <tbody>\n",
       "    <tr>\n",
       "      <th>0</th>\n",
       "      <td>South West</td>\n",
       "      <td>Male</td>\n",
       "      <td>38</td>\n",
       "      <td>Skilled</td>\n",
       "      <td>275376.202392</td>\n",
       "      <td>250898.09</td>\n",
       "    </tr>\n",
       "    <tr>\n",
       "      <th>1</th>\n",
       "      <td>North Central</td>\n",
       "      <td>Female</td>\n",
       "      <td>57</td>\n",
       "      <td>Non-Skilled</td>\n",
       "      <td>168705.016176</td>\n",
       "      <td>238387.56</td>\n",
       "    </tr>\n",
       "    <tr>\n",
       "      <th>2</th>\n",
       "      <td>South West</td>\n",
       "      <td>Male</td>\n",
       "      <td>42</td>\n",
       "      <td>Skilled</td>\n",
       "      <td>115230.012462</td>\n",
       "      <td>222267.63</td>\n",
       "    </tr>\n",
       "    <tr>\n",
       "      <th>3</th>\n",
       "      <td>South West</td>\n",
       "      <td>Male</td>\n",
       "      <td>40</td>\n",
       "      <td>Non-Skilled</td>\n",
       "      <td>184308.943539</td>\n",
       "      <td>221532.80</td>\n",
       "    </tr>\n",
       "    <tr>\n",
       "      <th>4</th>\n",
       "      <td>South West</td>\n",
       "      <td>Female</td>\n",
       "      <td>58</td>\n",
       "      <td>Skilled</td>\n",
       "      <td>141788.455066</td>\n",
       "      <td>216109.88</td>\n",
       "    </tr>\n",
       "  </tbody>\n",
       "</table>\n",
       "</div>"
      ],
      "text/plain": [
       "       Geography  Gender  Age   Profession  Balance (last week)  \\\n",
       "0     South West    Male   38      Skilled        275376.202392   \n",
       "1  North Central  Female   57  Non-Skilled        168705.016176   \n",
       "2     South West    Male   42      Skilled        115230.012462   \n",
       "3     South West    Male   40  Non-Skilled        184308.943539   \n",
       "4     South West  Female   58      Skilled        141788.455066   \n",
       "\n",
       "   Balance (today)  \n",
       "0        250898.09  \n",
       "1        238387.56  \n",
       "2        222267.63  \n",
       "3        221532.80  \n",
       "4        216109.88  "
      ]
     },
     "execution_count": 4,
     "metadata": {},
     "output_type": "execute_result"
    }
   ],
   "source": [
    "#column headers of data to be used for the analysis\n",
    "rawData.head(5)"
   ]
  },
  {
   "cell_type": "markdown",
   "metadata": {},
   "source": [
    "#### Segments and features description"
   ]
  },
  {
   "cell_type": "markdown",
   "metadata": {},
   "source": [
    "The following segments and features are required for this analysis\n",
    "\n",
    "1. Segments   ......                  2. Features\n",
    "1. Profession    ......                 i. Skilled  ......          ii. Non-Skilled\n",
    "2. Gender ......  i. Male  ......          ii. Female\n",
    "3. Geography ......  i. North Central  ......          ii. South West  ...... iii. South East\n",
    "4. Age ......  i. 18 to 30  ......          ii. 30 to 50  ...... iii. 50 to 75 ...... iii. 75 above"
   ]
  },
  {
   "cell_type": "markdown",
   "metadata": {},
   "source": [
    "#### Class objects definition"
   ]
  },
  {
   "cell_type": "markdown",
   "metadata": {},
   "source": [
    "This is essential to this analysis because it makes reading this notebook reasonable. One class object will be used to perform all analysis since the same method is used for calculating them. \n",
    "\n",
    "The following class arguments are defined:\n",
    "##### class arguments created are cCount, sCount, fCount, X, X1, Y, fname, sname\n",
    "##### class object is eventPulse\n",
    "##### an instance of the class is fname =  eventpulse(cCount, sCount, fCount, X, X1, Y, fname, sname)\n",
    "##### calling a method on an instance of the class is fname.methoddefined()\n",
    "1. cCount is defined as total bank customers count\n",
    "2. sCount is defined as total segmented count with balance greater than zero\n",
    "3. fCount is defined as total feature count with balance greater than zero\n",
    "4. X is average feature balance today\n",
    "5. X1 is average feature balance last week\n",
    "6. Y is average segment balance last week\n",
    "7. fname is feature name\n",
    "8. sname is segment name"
   ]
  },
  {
   "cell_type": "markdown",
   "metadata": {},
   "source": [
    "Also, values of events from featurs are interpreted based on the below tables and defined within the class object <b> eventPulse."
   ]
  },
  {
   "cell_type": "code",
   "execution_count": 19,
   "metadata": {},
   "outputs": [
    {
     "data": {
      "image/png": "[encoded data removed]",
      "text/plain": [
       "<IPython.core.display.Image object>"
      ]
     },
     "execution_count": 19,
     "metadata": {},
     "output_type": "execute_result"
    }
   ],
   "source": [
    "from IPython.display import Image\n",
    "Image(filename=\"C:\\\\Users\\Brightness\\Downloads\\Ope_pulse_test1.png\")"
   ]
  },
  {
   "cell_type": "code",
   "execution_count": 5,
   "metadata": {},
   "outputs": [],
   "source": [
    "class eventPulse():\n",
    "    \n",
    "    def __init__(self, cCount, sCount, fCount, X, X1, Y, fname, sname):\n",
    "        self.cCount = cCount\n",
    "        self.sCount = sCount\n",
    "        self.fCount = fCount\n",
    "        self.X = X\n",
    "        self.X1 = X1\n",
    "        self.Y = Y\n",
    "        self.fname = fname\n",
    "        self.sname = sname\n",
    "        \n",
    "    def confidenceInterval(self):\n",
    "        CI = sCount/cCount\n",
    "        return (\"{} Confidence Interval is {}\".format(sname, CI))\n",
    "    \n",
    "    def featureLikelihood(self):\n",
    "        fL = (fCount/sCount)\n",
    "        if fL>=0 and fL<=0.15:\n",
    "            fL = 1\n",
    "        elif fL>0.15 and fL<=0.4:\n",
    "            fL = 1.5\n",
    "        elif fL>0.4 and fL<=0.48:\n",
    "            fL = 2\n",
    "        elif fL>0.48 and fL<= 0.52:\n",
    "            fL = 3\n",
    "        elif fL>0.52 and fL<= 0.60:\n",
    "            fL = 3.5\n",
    "        elif fL>0.60 and fL<= 0.85:\n",
    "            fL = 4\n",
    "        else:\n",
    "            fL>0.85 and fL<=1\n",
    "            f = 5         \n",
    "        return \"Likelihood of {} event is {}\".format(fname, fL)\n",
    "    \n",
    "    def featureAveragebalance(self):\n",
    "        return \"Average {} balance today is {}\".format(fname, X)\n",
    "        return \"Average {} balance last week is {}\".format(fname, X1)\n",
    "    \n",
    "    def segmentAveragebalance(self):\n",
    "        return \"Average {} balance today is {}\".format(sname, Y)\n",
    "    \n",
    "    def featureImpact(self):\n",
    "        fI = ((X - Y)/Y) \n",
    "        if fI<=-0.2:\n",
    "            fI = 10\n",
    "        elif fI>-0.2 and fI<=-0.05:\n",
    "            fI = 15\n",
    "        elif fI>-0.05 and fI<= -0.01:\n",
    "            fI= 25\n",
    "        elif fI>-0.01 and fI<= 0.01:\n",
    "            fI = 100\n",
    "        elif fI>0.01 and fI<= 0.03:\n",
    "            fI = 350\n",
    "        elif fI>0.03 and fI<= 0.10:\n",
    "            fI= 450\n",
    "        else:\n",
    "            fI>0.1\n",
    "            fI= 800\n",
    "        return \"{} impact is {} \".format(fname, fI)\n",
    "        \n",
    "    def featureSustainability(self):\n",
    "        fS = ((X/X1)-1) * 100\n",
    "        if fS<= -0.2:\n",
    "            fS= 0.92\n",
    "        elif fS>-0.2 and fS<=-0.05:\n",
    "            fS= 0.94\n",
    "        elif fS>-0.05 and fS<= -0.01:\n",
    "            fS= 0.96\n",
    "        elif fS>-0.01 and fS<= 0.01:\n",
    "            fS= 1\n",
    "        elif fS>0.01 and fS<= 0.03:\n",
    "            fS= 1.02\n",
    "        elif fS>0.03 and fS<= 0.10:\n",
    "            fS= 1.03\n",
    "        else:\n",
    "            fS>0.1\n",
    "            fS = 1.05 \n",
    "        return \"{} sustainability is {}\".format(fname, fS)"
   ]
  },
  {
   "cell_type": "markdown",
   "metadata": {},
   "source": [
    "##### Pulse of event by profession\n",
    "\n",
    "Profession has two features: Skilled and Non-Skilled. Therefore two instances of class <b>eventPulse will be created."
   ]
  },
  {
   "cell_type": "code",
   "execution_count": 6,
   "metadata": {},
   "outputs": [
    {
     "name": "stdout",
     "output_type": "stream",
     "text": [
      "Profession Confidence Interval is 0.8663\n",
      "Likelihood of Skilled event is 3\n",
      "Average Skilled balance today is 88047.88469804835\n",
      "Average Profession balance today is 88372.10179845293\n",
      "Skilled impact is 100 \n",
      "Skilled sustainability is 0.94\n",
      "Count of Skilled is 4355\n",
      "Actual likelihood of Skilled is 0.5027126861364424\n"
     ]
    }
   ],
   "source": [
    "# create instance of feature Skilled\n",
    "sData = rawData[rawData[\"Balance (today)\"]>0] #segment data\n",
    "fData= sData[sData[\"Profession\"] == \"Skilled\"] # feature data\n",
    "dfData = fData.describe() # summarized feature data\n",
    "dsData = sData.describe() # summarized segment data\n",
    "cCount = len(rawData)\n",
    "sCount = len(sData) #is defined as total segmented count with balance greater than zero\n",
    "fCount = len(sData[sData[\"Profession\"] == \"Skilled\"]) \n",
    "X = dfData[\"Balance (today)\"].loc[\"mean\"] #is average feature balance today\n",
    "X1 = dfData[\"Balance (last week)\"].loc[\"mean\"] #is average feature balance last week\n",
    "Y = dsData[\"Balance (today)\"].loc[\"mean\"]#is average segment balance last week\n",
    "fname = \"Skilled\"\n",
    "sname = \"Profession\"\n",
    "\n",
    "skilled = eventPulse(cCount,sCount, fCount,X, X1,Y, fname, sname)\n",
    "\n",
    "print(skilled.confidenceInterval())\n",
    "print(skilled.featureLikelihood())\n",
    "print(skilled.featureAveragebalance())\n",
    "print(skilled.segmentAveragebalance())\n",
    "print(skilled.featureImpact())\n",
    "print(skilled.featureSustainability())\n",
    "print(\"Count of {} is {}\".format(fname, len(fData)))\n",
    "print(\"Actual likelihood of {} is {}\".format(fname,(fCount/sCount)))"
   ]
  },
  {
   "cell_type": "code",
   "execution_count": 7,
   "metadata": {},
   "outputs": [
    {
     "name": "stdout",
     "output_type": "stream",
     "text": [
      "Profession Confidence Interval is 0.8663\n",
      "Likelihood of Non-skilled event is 3\n",
      "Average Non-skilled balance today is 88699.8560863512\n",
      "Average Profession balance today is 88372.10179845293\n",
      "Non-skilled impact is 100 \n",
      "Non-skilled sustainability is 0.92\n",
      "Count of Non-skilled is 4308\n",
      "Actual likelihood of Non-skilled is 0.4972873138635577\n"
     ]
    }
   ],
   "source": [
    "#create instance for Non-Skilled\n",
    "sData = rawData[rawData[\"Balance (today)\"]>0] #segment data\n",
    "fData = sData[sData[\"Profession\"] == \"Non-Skilled\"] # feature data\n",
    "dfData = fData.describe() # summarized feature data\n",
    "dsData = sData.describe() # summarized segment data\n",
    "cCount = len(rawData)\n",
    "sCount= len(sData) #is defined as total segmented count with balance greater than zero\n",
    "fCount = len(sData[sData[\"Profession\"] == \"Non-Skilled\"]) \n",
    "X = dfData[\"Balance (today)\"].loc[\"mean\"] #is average feature balance today\n",
    "X1 = dfData[\"Balance (last week)\"].loc[\"mean\"] #is average feature balance last week\n",
    "Y = dsData[\"Balance (today)\"].loc[\"mean\"]#is average segment balance last week\n",
    "fname = \"Non-skilled\"\n",
    "sname = \"Profession\"\n",
    "\n",
    "non_skilled = eventPulse(cCount,sCount, fCount,X, X1,Y, fname, sname)\n",
    "\n",
    "print(non_skilled.confidenceInterval())\n",
    "print(non_skilled.featureLikelihood())\n",
    "print(non_skilled.featureAveragebalance())\n",
    "print(non_skilled.segmentAveragebalance())\n",
    "print(non_skilled.featureImpact())\n",
    "print(non_skilled.featureSustainability())\n",
    "print(\"Count of {} is {}\".format(fname, len(fData)))\n",
    "print(\"Actual likelihood of {} is {}\".format(fname,(fCount/sCount)))"
   ]
  },
  {
   "cell_type": "markdown",
   "metadata": {},
   "source": [
    "##### Pulse of event by gender\n",
    "\n",
    "Gender has two features: Male and Female. Therefore two instances of class <b>eventPulse will be created."
   ]
  },
  {
   "cell_type": "code",
   "execution_count": 8,
   "metadata": {},
   "outputs": [
    {
     "name": "stdout",
     "output_type": "stream",
     "text": [
      "Gender Confidence Interval is 0.8663\n",
      "Likelihood of Male event is 3.5\n",
      "Average Male balance today is 88800.64901622104\n",
      "Average Gender balance today is 88372.10179845293\n",
      "Male impact is 100 \n",
      "Male sustainability is 0.92\n",
      "Count of Male is 4747\n",
      "Actual likelihood of Male is 0.5479625995613528\n"
     ]
    }
   ],
   "source": [
    "# create instance of feature Male\n",
    "sData = rawData[rawData[\"Balance (today)\"]>0] #segment data\n",
    "fData= sData[sData[\"Gender\"] == \"Male\"] # feature data\n",
    "dfData = fData.describe() # summarized feature data\n",
    "dsData = sData.describe() # summarized segment data\n",
    "cCount = len(rawData)\n",
    "sCount = len(sData) #is defined as total segmented count with balance greater than zero\n",
    "fCount = len(sData[sData[\"Gender\"] == \"Male\"]) \n",
    "X = dfData[\"Balance (today)\"].loc[\"mean\"] #is average feature balance today\n",
    "X1 = dfData[\"Balance (last week)\"].loc[\"mean\"] #is average feature balance last week\n",
    "Y = dsData[\"Balance (today)\"].loc[\"mean\"]#is average segment balance last week\n",
    "fname = \"Male\"\n",
    "sname = \"Gender\"\n",
    "\n",
    "male = eventPulse(cCount,sCount, fCount,X, X1,Y, fname, sname)\n",
    "\n",
    "print(male.confidenceInterval())\n",
    "print(male.featureLikelihood())\n",
    "print(male.featureAveragebalance())\n",
    "print(male.segmentAveragebalance())\n",
    "print(male.featureImpact())\n",
    "print(male.featureSustainability())\n",
    "print(\"Count of {} is {}\".format(fname, len(fData)))\n",
    "print(\"Actual likelihood of {} is {}\".format(fname,(fCount/sCount)))"
   ]
  },
  {
   "cell_type": "code",
   "execution_count": 9,
   "metadata": {},
   "outputs": [
    {
     "name": "stdout",
     "output_type": "stream",
     "text": [
      "Gender Confidence Interval is 0.8663\n",
      "Likelihood of Female event is 2\n",
      "Average Female balance today is 87852.61414708878\n",
      "Average Gender balance today is 88372.10179845293\n",
      "Female impact is 100 \n",
      "Female sustainability is 1.05\n",
      "Count of Female is 3916\n",
      "Actual likelihood of Female is 0.4520374004386471\n"
     ]
    }
   ],
   "source": [
    "# create instance of feature Female\n",
    "sData = rawData[rawData[\"Balance (today)\"]>0] #segment data\n",
    "fData= sData[sData[\"Gender\"] == \"Female\"] # feature data\n",
    "dfData = fData.describe() # summarized feature data\n",
    "dsData = sData.describe() # summarized segment data\n",
    "cCount = len(rawData)\n",
    "sCount = len(sData) #is defined as total segmented count with balance greater than zero\n",
    "fCount = len(sData[sData[\"Gender\"] == \"Female\"]) \n",
    "X = dfData[\"Balance (today)\"].loc[\"mean\"] #is average feature balance today\n",
    "X1 = dfData[\"Balance (last week)\"].loc[\"mean\"] #is average feature balance last week\n",
    "Y = dsData[\"Balance (today)\"].loc[\"mean\"]#is average segment balance last week\n",
    "fname = \"Female\"\n",
    "sname = \"Gender\"\n",
    "\n",
    "female = eventPulse(cCount,sCount, fCount,X, X1,Y, fname, sname)\n",
    "\n",
    "print(female.confidenceInterval())\n",
    "print(female.featureLikelihood())\n",
    "print(female.featureAveragebalance())\n",
    "print(female.segmentAveragebalance())\n",
    "print(female.featureImpact())\n",
    "print(female.featureSustainability())\n",
    "print(\"Count of {} is {}\".format(fname, len(fData)))\n",
    "print(\"Actual likelihood of {} is {}\".format(fname,(fCount/sCount)))"
   ]
  },
  {
   "cell_type": "markdown",
   "metadata": {},
   "source": [
    "##### Pulse of event by geography\n",
    "\n",
    "geography has three features: North Central, South West and South East. Therefore three instances of class <b>eventPulse will be created. "
   ]
  },
  {
   "cell_type": "code",
   "execution_count": 10,
   "metadata": {},
   "outputs": [
    {
     "name": "stdout",
     "output_type": "stream",
     "text": [
      "Geography Confidence Interval is 0.8663\n",
      "Likelihood of North Central event is 1.5\n",
      "Average North Central balance today is 93145.28744095653\n",
      "Average Geography balance today is 88372.10179845293\n",
      "North Central impact is 450 \n",
      "North Central sustainability is 0.92\n",
      "Count of North Central is 3345\n",
      "Actual likelihood of North Central is 0.38612489899572894\n"
     ]
    }
   ],
   "source": [
    "# create instance of feature North Central\n",
    "sData = rawData[rawData[\"Balance (today)\"]>0] #segment data\n",
    "fData= sData[sData[\"Geography\"] == \"North Central\"] # feature data\n",
    "dfData = fData.describe() # summarized feature data\n",
    "dsData = sData.describe() # summarized segment data\n",
    "cCount = len(rawData)\n",
    "sCount = len(sData) #is defined as total segmented count with balance greater than zero\n",
    "fCount = len(sData[sData[\"Geography\"] == \"North Central\"]) \n",
    "X = dfData[\"Balance (today)\"].loc[\"mean\"] #is average feature balance today\n",
    "X1 = dfData[\"Balance (last week)\"].loc[\"mean\"] #is average feature balance last week\n",
    "Y = dsData[\"Balance (today)\"].loc[\"mean\"]#is average segment balance last week\n",
    "fname = \"North Central\"\n",
    "sname = \"Geography\"\n",
    "\n",
    "NC = eventPulse(cCount,sCount, fCount,X, X1,Y, fname, sname)\n",
    "\n",
    "print(NC.confidenceInterval())\n",
    "print(NC.featureLikelihood())\n",
    "print(NC.featureAveragebalance())\n",
    "print(NC.segmentAveragebalance())\n",
    "print(NC.featureImpact())\n",
    "print(NC.featureSustainability())\n",
    "print(\"Count of {} is {}\".format(fname, len(fData)))\n",
    "print(\"Actual likelihood of {} is {}\".format(fname,(fCount/sCount)))"
   ]
  },
  {
   "cell_type": "code",
   "execution_count": 11,
   "metadata": {},
   "outputs": [
    {
     "name": "stdout",
     "output_type": "stream",
     "text": [
      "Geography Confidence Interval is 0.8663\n",
      "Likelihood of South West event is 1.5\n",
      "Average South West balance today is 54679.127807048695\n",
      "Average Geography balance today is 88372.10179845293\n",
      "South West impact is 10 \n",
      "South West sustainability is 0.92\n",
      "Count of South West is 2809\n",
      "Actual likelihood of South West is 0.32425256839432065\n"
     ]
    }
   ],
   "source": [
    "# create instance of feature South West\n",
    "sData = rawData[rawData[\"Balance (today)\"]>0] #segment data\n",
    "fData= sData[sData[\"Geography\"] == \"South West\"] # feature data\n",
    "dfData = fData.describe() # summarized feature data\n",
    "dsData = sData.describe() # summarized segment data\n",
    "cCount = len(rawData)\n",
    "sCount = len(sData) #is defined as total segmented count with balance greater than zero\n",
    "fCount = len(sData[sData[\"Geography\"] == \"South West\"]) \n",
    "X = dfData[\"Balance (today)\"].loc[\"mean\"] #is average feature balance today\n",
    "X1 = dfData[\"Balance (last week)\"].loc[\"mean\"] #is average feature balance last week\n",
    "Y = dsData[\"Balance (today)\"].loc[\"mean\"]#is average segment balance last week\n",
    "fname = \"South West\"\n",
    "sname = \"Geography\"\n",
    "\n",
    "SW = eventPulse(cCount,sCount, fCount,X, X1,Y, fname, sname)\n",
    "\n",
    "print(SW.confidenceInterval())\n",
    "print(SW.featureLikelihood())\n",
    "print(SW.featureAveragebalance())\n",
    "print(SW.segmentAveragebalance())\n",
    "print(SW.featureImpact())\n",
    "print(SW.featureSustainability())\n",
    "print(\"Count of {} is {}\".format(fname, len(fData)))\n",
    "print(\"Actual likelihood of {} is {}\".format(fname,(fCount/sCount)))"
   ]
  },
  {
   "cell_type": "code",
   "execution_count": 12,
   "metadata": {},
   "outputs": [
    {
     "name": "stdout",
     "output_type": "stream",
     "text": [
      "Geography Confidence Interval is 0.8663\n",
      "Likelihood of South East event is 1.5\n",
      "Average South East balance today is 119730.1161339179\n",
      "Average Geography balance today is 88372.10179845293\n",
      "South East impact is 800 \n",
      "South East sustainability is 0.92\n",
      "Count of South East is 2509\n",
      "Actual likelihood of South East is 0.28962253260995036\n"
     ]
    }
   ],
   "source": [
    "# create instance of feature South East\n",
    "sData = rawData[rawData[\"Balance (today)\"]>0] #segment data\n",
    "fData= sData[sData[\"Geography\"] == \"South East\"] # feature data\n",
    "dfData = fData.describe() # summarized feature data\n",
    "dsData = sData.describe() # summarized segment data\n",
    "cCount = len(rawData)\n",
    "sCount = len(sData) #is defined as total segmented count with balance greater than zero\n",
    "fCount = len(sData[sData[\"Geography\"] == \"South East\"]) \n",
    "X = dfData[\"Balance (today)\"].loc[\"mean\"] #is average feature balance today\n",
    "X1 = dfData[\"Balance (last week)\"].loc[\"mean\"] #is average feature balance last week\n",
    "Y = dsData[\"Balance (today)\"].loc[\"mean\"]#is average segment balance last week\n",
    "fname = \"South East\"\n",
    "sname = \"Geography\"\n",
    "\n",
    "SE = eventPulse(cCount,sCount, fCount,X, X1,Y, fname, sname)\n",
    "\n",
    "print(SE.confidenceInterval())\n",
    "print(SE.featureLikelihood())\n",
    "print(SE.featureAveragebalance())\n",
    "print(SE.segmentAveragebalance())\n",
    "print(SE.featureImpact())\n",
    "print(SE.featureSustainability())\n",
    "print(\"Count of {} is {}\".format(fname, len(fData)))\n",
    "print(\"Actual likelihood of {} is {}\".format(fname,(fCount/sCount)))"
   ]
  },
  {
   "cell_type": "markdown",
   "metadata": {},
   "source": [
    "##### Pulse of event by Geography\n",
    "\n",
    "geography has 4 features: \n",
    "1. 18to30, \n",
    "2. 30to50, \n",
    "3. 50to75, \n",
    "4. 75above. \n",
    "\n",
    "Therefore four instances of class <b>eventPulse will be created."
   ]
  },
  {
   "cell_type": "code",
   "execution_count": 13,
   "metadata": {},
   "outputs": [
    {
     "name": "stdout",
     "output_type": "stream",
     "text": [
      "Age Confidence Interval is 0.8663\n",
      "Likelihood of Age 18 to 30 event is 1.5\n",
      "Average Age 18 to 30 balance today is 85228.56835106378\n",
      "Average Age balance today is 88372.10179845293\n",
      "Age 18 to 30 impact is 25 \n",
      "Age 18 to 30 sustainability is 0.92\n",
      "Count of Age 18 to 30 is 1692\n",
      "Actual likelihood of Age 18 to 30 is 0.19531340182384854\n"
     ]
    }
   ],
   "source": [
    "# create instance of feature 18to30\n",
    "sData = rawData[rawData[\"Balance (today)\"]>0] #segment data\n",
    "fData= sData[(sData[\"Age\"]>=18) & (sData[\"Age\"]<=30)] # feature data\n",
    "dfData = fData.describe() # summarized feature data\n",
    "dsData = sData.describe() # summarized segment data\n",
    "cCount = len(rawData)\n",
    "sCount = len(sData) #is defined as total segmented count with balance greater than zero\n",
    "fCount = len(fData) #(sData[\"Age\"]>=18) & (sData[\"Age\"]<=30)\n",
    "X = dfData[\"Balance (today)\"].loc[\"mean\"] #is average feature balance today\n",
    "X1 = dfData[\"Balance (last week)\"].loc[\"mean\"] #is average feature balance last week\n",
    "Y = dsData[\"Balance (today)\"].loc[\"mean\"]#is average segment balance last week\n",
    "fname = \"Age 18 to 30\"\n",
    "sname = \"Age\"\n",
    "\n",
    "A18to30 = eventPulse(cCount,sCount, fCount,X, X1,Y, fname, sname)\n",
    "\n",
    "print(A18to30.confidenceInterval())\n",
    "print(A18to30.featureLikelihood())\n",
    "print(A18to30.featureAveragebalance())\n",
    "print(A18to30.segmentAveragebalance())\n",
    "print(A18to30.featureImpact())\n",
    "print(A18to30.featureSustainability())\n",
    "print(\"Count of {} is {}\".format(fname, len(fData)))\n",
    "print(\"Actual likelihood of {} is {}\".format(fname,(fCount/sCount)))"
   ]
  },
  {
   "cell_type": "code",
   "execution_count": 14,
   "metadata": {},
   "outputs": [
    {
     "name": "stdout",
     "output_type": "stream",
     "text": [
      "Age Confidence Interval is 0.8663\n",
      "Likelihood of Age 30 to 50 event is 4\n",
      "Average Age 30 to 50 balance today is 89043.0689409754\n",
      "Average Age balance today is 88372.10179845293\n",
      "Age 30 to 50 impact is 100 \n",
      "Age 30 to 50 sustainability is 0.92\n",
      "Count of Age 30 to 50 is 5845\n",
      "Actual likelihood of Age 30 to 50 is 0.6747085305321482\n"
     ]
    }
   ],
   "source": [
    "# create instance of feature 30 to 50\n",
    "sData = rawData[rawData[\"Balance (today)\"]>0] #segment data\n",
    "fData= sData[(sData[\"Age\"]>30) & (sData[\"Age\"]<=50)] # feature data\n",
    "dfData = fData.describe() # summarized feature data\n",
    "dsData = sData.describe() # summarized segment data\n",
    "cCount = len(rawData)\n",
    "sCount = len(sData) #is defined as total segmented count with balance greater than zero\n",
    "fCount = len(fData)#((sData[\"Age\"]>30) & (sData[\"Age\"]<=50))\n",
    "X = dfData[\"Balance (today)\"].loc[\"mean\"] #is average feature balance today\n",
    "X1 = dfData[\"Balance (last week)\"].loc[\"mean\"] #is average feature balance last week\n",
    "Y = dsData[\"Balance (today)\"].loc[\"mean\"]#is average segment balance last week\n",
    "fname = \"Age 30 to 50\"\n",
    "sname = \"Age\"\n",
    "\n",
    "A30to50 = eventPulse(cCount,sCount, fCount,X, X1,Y, fname, sname)\n",
    "\n",
    "print(A30to50.confidenceInterval())\n",
    "print(A30to50.featureLikelihood())\n",
    "print(A30to50.featureAveragebalance())\n",
    "print(A30to50.segmentAveragebalance())\n",
    "print(A30to50.featureImpact())\n",
    "print(A30to50.featureSustainability())\n",
    "print(\"Count of {} is {}\".format(fname, len(fData)))\n",
    "print(\"Actual likelihood of {} is {}\".format(fname,(fCount/sCount)))"
   ]
  },
  {
   "cell_type": "code",
   "execution_count": 15,
   "metadata": {},
   "outputs": [
    {
     "name": "stdout",
     "output_type": "stream",
     "text": [
      "Age Confidence Interval is 0.8663\n",
      "Likelihood of Age 50 to 75 event is 1\n",
      "Average Age 50 to 75 balance today is 90279.7261935484\n",
      "Average Age balance today is 88372.10179845293\n",
      "Age 50 to 75 impact is 350 \n",
      "Age 50 to 75 sustainability is 1.05\n",
      "Count of Age 50 to 75 is 1085\n",
      "Actual likelihood of Age 50 to 75 is 0.12524529608680596\n"
     ]
    }
   ],
   "source": [
    "# create instance of feature 50 to 75\n",
    "sData = rawData[rawData[\"Balance (today)\"]>0] #segment data\n",
    "fData= sData[(sData[\"Age\"]>50) & (sData[\"Age\"]<=75)] # feature data\n",
    "dfData = fData.describe() # summarized feature data\n",
    "dsData = sData.describe() # summarized segment data\n",
    "cCount = len(rawData)\n",
    "sCount = len(sData) #is defined as total segmented count with balance greater than zero\n",
    "fCount = len(fData)#len((sData[\"Age\"]>50) & (sData[\"Age\"]<=75))\n",
    "X = dfData[\"Balance (today)\"].loc[\"mean\"] #is average feature balance today\n",
    "X1 = dfData[\"Balance (last week)\"].loc[\"mean\"] #is average feature balance last week\n",
    "Y = dsData[\"Balance (today)\"].loc[\"mean\"]#is average segment balance last week\n",
    "fname = \"Age 50 to 75\"\n",
    "sname = \"Age\"\n",
    "\n",
    "A50to75 = eventPulse(cCount,sCount, fCount,X, X1,Y, fname, sname)\n",
    "\n",
    "print(A50to75.confidenceInterval())\n",
    "print(A50to75.featureLikelihood())\n",
    "print(A50to75.featureAveragebalance())\n",
    "print(A50to75.segmentAveragebalance())\n",
    "print(A50to75.featureImpact())\n",
    "print(A50to75.featureSustainability())\n",
    "print(\"Count of {} is {}\".format(fname, len(fData)))\n",
    "print(\"Actual likelihood of {} is {}\".format(fname,(fCount/sCount)))"
   ]
  },
  {
   "cell_type": "code",
   "execution_count": 16,
   "metadata": {},
   "outputs": [
    {
     "name": "stdout",
     "output_type": "stream",
     "text": [
      "Age Confidence Interval is 0.8663\n",
      "Likelihood of Age 75 and above event is 1\n",
      "Average Age 75 and above balance today is 71964.37439024389\n",
      "Average Age balance today is 88372.10179845293\n",
      "Age 75 and above impact is 15 \n",
      "Age 75 and above sustainability is 0.92\n",
      "Count of Age 75 and above is 41\n",
      "Actual likelihood of Age 75 and above is 0.0047327715571972755\n"
     ]
    }
   ],
   "source": [
    "# create instance of feature 30 to 50\n",
    "sData = rawData[rawData[\"Balance (today)\"]>0] #segment data\n",
    "fData= sData[sData[\"Age\"]>75] # feature data\n",
    "dfData = fData.describe() # summarized feature data\n",
    "dsData = sData.describe() # summarized segment data\n",
    "cCount = len(rawData)\n",
    "sCount = len(sData) #is defined as total segmented count with balance greater than zero\n",
    "fCount = len(fData)#len(sData[\"Age\"]>75)\n",
    "X = dfData[\"Balance (today)\"].loc[\"mean\"] #is average feature balance today\n",
    "X1 = dfData[\"Balance (last week)\"].loc[\"mean\"] #is average feature balance last week\n",
    "Y = dsData[\"Balance (today)\"].loc[\"mean\"]#is average segment balance last week\n",
    "fname = \"Age 75 and above\"\n",
    "sname = \"Age\"\n",
    "\n",
    "A75above = eventPulse(cCount,sCount, fCount,X, X1,Y, fname, sname)\n",
    "\n",
    "print(A75above.confidenceInterval())\n",
    "print(A75above.featureLikelihood())\n",
    "print(A75above.featureAveragebalance())\n",
    "print(A75above.segmentAveragebalance())\n",
    "print(A75above.featureImpact())\n",
    "print(A75above.featureSustainability())\n",
    "print(\"Count of {} is {}\".format(fname, len(fData)))\n",
    "print(\"Actual likelihood of {} is {}\".format(fname,(fCount/sCount)))"
   ]
  },
  {
   "cell_type": "markdown",
   "metadata": {},
   "source": [
    "##### Summary of analysis and calculation of feature pulse and event pulse"
   ]
  },
  {
   "cell_type": "code",
   "execution_count": 18,
   "metadata": {},
   "outputs": [
    {
     "data": {
      "image/png": "[encoded data removed]",
      "text/plain": [
       "<IPython.core.display.Image object>"
      ]
     },
     "execution_count": 18,
     "metadata": {},
     "output_type": "execute_result"
    }
   ],
   "source": [
    "from IPython.display import Image\n",
    "Image(filename=\"C:\\\\Users\\Brightness\\Downloads\\Ope_pulse_test.png\")"
   ]
  },
  {
   "cell_type": "code",
   "execution_count": null,
   "metadata": {},
   "outputs": [],
   "source": []
  }
 ],
 "metadata": {
  "kernelspec": {
   "display_name": "Python 3",
   "language": "python",
   "name": "python3"
  },
  "language_info": {
   "codemirror_mode": {
    "name": "ipython",
    "version": 3
   },
   "file_extension": ".py",
   "mimetype": "text/x-python",
   "name": "python",
   "nbconvert_exporter": "python",
   "pygments_lexer": "ipython3",
   "version": "3.6.5"
  }
 },
 "nbformat": 4,
 "nbformat_minor": 2
}
